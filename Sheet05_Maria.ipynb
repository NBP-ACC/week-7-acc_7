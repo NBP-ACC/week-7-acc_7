{
 "cells": [
  {
   "cell_type": "markdown",
   "metadata": {},
   "source": [
    "Osnabrück University - A&C: Computational Cognition (Summer Term 2019)"
   ]
  },
  {
   "cell_type": "markdown",
   "metadata": {},
   "source": [
    "# Exercise Sheet 05: Eye tracking"
   ]
  },
  {
   "cell_type": "markdown",
   "metadata": {},
   "source": [
    "## Introduction\n",
    "\n",
    "This week's sheet should be solved and handed in at 14:00 at **Tuesday, May 28, 2019**. If you need help (and Google and other resources were not enough), feel free to contact your tutors. Please push your results to your Github group folder.\n",
    "\n",
    "For this exercise sheet you will have 2 weeks and the sheet is also worth of 30 points. In this exercise sheet you will start to work with eye tracking data. Note that the data we will use here are not raw gaze data and contain coordinates of fixation points.\n",
    "\n",
    "The dataset is distributed freely by a following study: [Wilming, N. Dryad](https://www.nature.com/articles/sdata2016126#data-citations). By clicking on the link in the section \"Data Citations\" you will get redirected to the page where you can download all the data openly distributed. Read below for description of each file.\n",
    "\n",
    "##### necessary\n",
    "*etdb_v1.0*: This is the main data file. The hdf5 file consists of all the fixation data and the metadata.  \n",
    "*Read gaze data with python*: Python script to read hdf5 file as a dataframe.  \n",
    "*Stimuli/i*: Zip file containing image stimuli used in the study. The encoding convention is same as in the dataframe.\n",
    "##### optional\n",
    "*Metadata*: This is the csv file giving overview of all studies."
   ]
  },
  {
   "cell_type": "code",
   "execution_count": 2,
   "metadata": {
    "scrolled": true
   },
   "outputs": [
    {
     "name": "stdout",
     "output_type": "stream",
     "text": [
      "Requirement already satisfied: h5py in /anaconda3/envs/acc/lib/python3.6/site-packages (2.9.0)\n",
      "Requirement already satisfied: numpy>=1.7 in /anaconda3/envs/acc/lib/python3.6/site-packages (from h5py) (1.16.2)\n",
      "Requirement already satisfied: six in /anaconda3/envs/acc/lib/python3.6/site-packages (from h5py) (1.12.0)\n",
      "Note: you may need to restart the kernel to use updated packages.\n"
     ]
    }
   ],
   "source": [
    "%pip install h5py \n",
    "# make sure to install h5py which is used in fixmat.py"
   ]
  },
  {
   "cell_type": "code",
   "execution_count": 3,
   "metadata": {},
   "outputs": [],
   "source": [
    "import numpy as np\n",
    "import matplotlib\n",
    "import matplotlib.pyplot as plt\n",
    "import seaborn as sns\n",
    "from scipy import stats\n",
    "import statsmodels.api as sm\n",
    "from statsmodels.stats.anova import *\n",
    "from datas.fixmat import *"
   ]
  },
  {
   "cell_type": "markdown",
   "metadata": {},
   "source": [
    "## Assignment 0: Peer review for sheet 04 [3 pts]"
   ]
  },
  {
   "cell_type": "markdown",
   "metadata": {},
   "source": [
    "Each group reviews the solutions of two other groups and give points according to the given point distribution considering the correctness of the solution. For this reviews the tutors will give you up to 3 points each week. Follow a distributed comment guidelines if you are unsure.\n",
    "\n",
    "| * |Group 1|Group 2|Group 3|Group 4|Group 5|Group 6|Group 7|Group 8|Group 9|Group 10|Group 11|\n",
    "| ------- | ----- | ----- | ----- | ----- | ----- | ----- | ----- | ----- | ----- | ------ | ------ |\n",
    "| check solutions of group: | 5, 9 | 1, 6  | 4, 7  | 7, 2 | 2, 11 | 8, 3 | 3, 10  | 11, 1  | 10, 4  | 6, 8  | 9, 5   |\n"
   ]
  },
  {
   "cell_type": "markdown",
   "metadata": {},
   "source": [
    "## Assignment 1: Checking the data distribution [9 pts]"
   ]
  },
  {
   "cell_type": "markdown",
   "metadata": {},
   "source": [
    "### a) loading datasets [0 pts]\n",
    "As with any other datasets, the first step is to get an idea of the dataset. Check the meta data and column of the dataframe."
   ]
  },
  {
   "cell_type": "code",
   "execution_count": 4,
   "metadata": {},
   "outputs": [],
   "source": [
    "# use a fixmat.py to load the hdf5 format data as a panda dataframe\n",
    "df, meta = load('datas/etdb_v1.0.hdf5', \"Baseline\")"
   ]
  },
  {
   "cell_type": "code",
   "execution_count": 5,
   "metadata": {
    "scrolled": true
   },
   "outputs": [
    {
     "data": {
      "text/plain": [
       "{'# Fix.': 203772,\n",
       " '# Obs.': 48,\n",
       " 'Age': '23.1 (19-28)',\n",
       " 'Article': 15.0,\n",
       " 'Categories': '7,8,10,11',\n",
       " 'Disp. Size (degree)': '29x22',\n",
       " 'Display': 'SM1100',\n",
       " 'Display resolution (pixels)': '1280x960',\n",
       " 'Eye Tracker': 'EL II',\n",
       " 'ID': 3,\n",
       " 'Img. Pos. (pixel)': '0,0',\n",
       " 'Img. size (pixel)': '1280x960',\n",
       " 'PPD': 45.6,\n",
       " 'Sampling freq. (Hz)': '500 Hz',\n",
       " 'Task': 'FV',\n",
       " 'V. Dur.': '6s',\n",
       " 'V. dist. (cm) ': 80,\n",
       " 'Val. error (degrees)': 0.3}"
      ]
     },
     "execution_count": 5,
     "metadata": {},
     "output_type": "execute_result"
    }
   ],
   "source": [
    "meta"
   ]
  },
  {
   "cell_type": "code",
   "execution_count": 86,
   "metadata": {
    "scrolled": false
   },
   "outputs": [
    {
     "data": {
      "text/plain": [
       "Index(['SUBJECTINDEX', 'category', 'dataset_nr', 'end', 'eye', 'filenumber',\n",
       "       'fix', 'pupil', 'start', 'trial', 'x', 'y', 'category_name', 'duration',\n",
       "       'm', 'range'],\n",
       "      dtype='object')"
      ]
     },
     "execution_count": 86,
     "metadata": {},
     "output_type": "execute_result"
    }
   ],
   "source": [
    "df.columns"
   ]
  },
  {
   "cell_type": "markdown",
   "metadata": {},
   "source": [
    "### b) data cleaning [3 pts]\n",
    "We want to clean the dataframe so that it is handy for us to work with it.\n",
    "- How many fixations do we have per category? ```agg``` function might be helpful.\n",
    "- categories are encoded using a number. Add a column to the dataframe that has approporiate string value for that category (e.g. code 11.0 to \"Pink-noise\"). The category names can be found on Figure 2 of the paper.\n",
    "- since measurements lasted for 6 seconds, any fixation points that have a onset time before 0 sec and end time more than 6 sec are erroneous. Remove these rows.\n",
    "- also remove all rows with any NaN values.\n",
    "- add a column called ```duration``` and compute the duration of each fixation.\n",
    "- It is known from previous literature that fixations typically last between 100 msec to 400 msec. Remove all rows with unrealistic  fixation duration.\n",
    "- check how many data points got removed for each category. Let's hope that we didn't delete too many rows from a single category.\n",
    "- count the number of fixations for each trial. To do this, you can use the aggregate method to count the number of rows for each category.\n",
    "- print the mean duration and the mean number of fixation across all trials. Are they in a realistic range?"
   ]
  },
  {
   "cell_type": "code",
   "execution_count": 7,
   "metadata": {
    "scrolled": true
   },
   "outputs": [
    {
     "name": "stdout",
     "output_type": "stream",
     "text": [
      "Fixations per category:    category    fix\n",
      "            count\n",
      "0      7.0  52338\n",
      "1      8.0  56680\n",
      "2     10.0  52901\n",
      "3     11.0  41853\n",
      "Initial number of rows: 203772\n",
      "Rrows: removed: 237\n",
      "Rows removed: 0\n",
      "Rows left: 203535\n",
      "Number of fixations per trial:      trial   fix\n",
      "           count\n",
      "0      1.0   788\n",
      "1      2.0   808\n",
      "2      3.0   787\n",
      "3      4.0   788\n",
      "4      5.0   842\n",
      "5      6.0   834\n",
      "6      7.0   786\n",
      "7      8.0   826\n",
      "8      9.0   827\n",
      "9     10.0   842\n",
      "10    11.0   824\n",
      "11    12.0   800\n",
      "12    13.0   770\n",
      "13    14.0   823\n",
      "14    15.0   827\n",
      "15    16.0   809\n",
      "16    17.0   791\n",
      "17    18.0   812\n",
      "18    19.0   808\n",
      "19    20.0   812\n",
      "20    21.0   823\n",
      "21    22.0   839\n",
      "22    23.0   811\n",
      "23    24.0   829\n",
      "24    25.0   849\n",
      "25    26.0   787\n",
      "26    27.0   797\n",
      "27    28.0   778\n",
      "28    29.0   780\n",
      "29    30.0   812\n",
      "..     ...   ...\n",
      "225  226.0   740\n",
      "226  227.0   827\n",
      "227  228.0   808\n",
      "228  229.0   804\n",
      "229  230.0   767\n",
      "230  231.0   774\n",
      "231  232.0   756\n",
      "232  233.0   758\n",
      "233  234.0   801\n",
      "234  235.0   797\n",
      "235  236.0   777\n",
      "236  237.0   772\n",
      "237  238.0   796\n",
      "238  239.0   792\n",
      "239  240.0   742\n",
      "240  241.0   766\n",
      "241  242.0   751\n",
      "242  243.0   771\n",
      "243  244.0   755\n",
      "244  245.0   756\n",
      "245  246.0   807\n",
      "246  247.0   758\n",
      "247  248.0   757\n",
      "248  249.0   782\n",
      "249  250.0   795\n",
      "250  251.0   812\n",
      "251  252.0   801\n",
      "252  253.0   799\n",
      "253  254.0   768\n",
      "254  255.0   783\n",
      "\n",
      "[255 rows x 2 columns]\n"
     ]
    },
    {
     "data": {
      "text/html": [
       "<div>\n",
       "<style scoped>\n",
       "    .dataframe tbody tr th:only-of-type {\n",
       "        vertical-align: middle;\n",
       "    }\n",
       "\n",
       "    .dataframe tbody tr th {\n",
       "        vertical-align: top;\n",
       "    }\n",
       "\n",
       "    .dataframe thead tr th {\n",
       "        text-align: left;\n",
       "    }\n",
       "</style>\n",
       "<table border=\"1\" class=\"dataframe\">\n",
       "  <thead>\n",
       "    <tr>\n",
       "      <th></th>\n",
       "      <th>trial</th>\n",
       "      <th>fix</th>\n",
       "      <th>duration</th>\n",
       "    </tr>\n",
       "    <tr>\n",
       "      <th></th>\n",
       "      <th></th>\n",
       "      <th>mean</th>\n",
       "      <th>mean</th>\n",
       "    </tr>\n",
       "  </thead>\n",
       "  <tbody>\n",
       "    <tr>\n",
       "      <th>0</th>\n",
       "      <td>1.0</td>\n",
       "      <td>9.678934</td>\n",
       "      <td>310.472076</td>\n",
       "    </tr>\n",
       "    <tr>\n",
       "      <th>1</th>\n",
       "      <td>2.0</td>\n",
       "      <td>9.883663</td>\n",
       "      <td>300.024750</td>\n",
       "    </tr>\n",
       "    <tr>\n",
       "      <th>2</th>\n",
       "      <td>3.0</td>\n",
       "      <td>9.574333</td>\n",
       "      <td>310.086395</td>\n",
       "    </tr>\n",
       "    <tr>\n",
       "      <th>3</th>\n",
       "      <td>4.0</td>\n",
       "      <td>9.864213</td>\n",
       "      <td>307.700500</td>\n",
       "    </tr>\n",
       "    <tr>\n",
       "      <th>4</th>\n",
       "      <td>5.0</td>\n",
       "      <td>10.308788</td>\n",
       "      <td>290.703094</td>\n",
       "    </tr>\n",
       "    <tr>\n",
       "      <th>5</th>\n",
       "      <td>6.0</td>\n",
       "      <td>10.014388</td>\n",
       "      <td>295.304565</td>\n",
       "    </tr>\n",
       "    <tr>\n",
       "      <th>6</th>\n",
       "      <td>7.0</td>\n",
       "      <td>9.701017</td>\n",
       "      <td>311.465637</td>\n",
       "    </tr>\n",
       "    <tr>\n",
       "      <th>7</th>\n",
       "      <td>8.0</td>\n",
       "      <td>10.075061</td>\n",
       "      <td>291.016937</td>\n",
       "    </tr>\n",
       "    <tr>\n",
       "      <th>8</th>\n",
       "      <td>9.0</td>\n",
       "      <td>10.178960</td>\n",
       "      <td>293.555023</td>\n",
       "    </tr>\n",
       "    <tr>\n",
       "      <th>9</th>\n",
       "      <td>10.0</td>\n",
       "      <td>10.289786</td>\n",
       "      <td>286.118774</td>\n",
       "    </tr>\n",
       "    <tr>\n",
       "      <th>10</th>\n",
       "      <td>11.0</td>\n",
       "      <td>9.980582</td>\n",
       "      <td>294.320374</td>\n",
       "    </tr>\n",
       "    <tr>\n",
       "      <th>11</th>\n",
       "      <td>12.0</td>\n",
       "      <td>9.923750</td>\n",
       "      <td>300.795013</td>\n",
       "    </tr>\n",
       "    <tr>\n",
       "      <th>12</th>\n",
       "      <td>13.0</td>\n",
       "      <td>9.940260</td>\n",
       "      <td>303.158447</td>\n",
       "    </tr>\n",
       "    <tr>\n",
       "      <th>13</th>\n",
       "      <td>14.0</td>\n",
       "      <td>10.069259</td>\n",
       "      <td>295.511536</td>\n",
       "    </tr>\n",
       "    <tr>\n",
       "      <th>14</th>\n",
       "      <td>15.0</td>\n",
       "      <td>10.269650</td>\n",
       "      <td>291.455872</td>\n",
       "    </tr>\n",
       "    <tr>\n",
       "      <th>15</th>\n",
       "      <td>16.0</td>\n",
       "      <td>9.985167</td>\n",
       "      <td>300.393066</td>\n",
       "    </tr>\n",
       "    <tr>\n",
       "      <th>16</th>\n",
       "      <td>17.0</td>\n",
       "      <td>9.881163</td>\n",
       "      <td>297.185852</td>\n",
       "    </tr>\n",
       "    <tr>\n",
       "      <th>17</th>\n",
       "      <td>18.0</td>\n",
       "      <td>10.179803</td>\n",
       "      <td>294.044342</td>\n",
       "    </tr>\n",
       "    <tr>\n",
       "      <th>18</th>\n",
       "      <td>19.0</td>\n",
       "      <td>9.849010</td>\n",
       "      <td>301.034668</td>\n",
       "    </tr>\n",
       "    <tr>\n",
       "      <th>19</th>\n",
       "      <td>20.0</td>\n",
       "      <td>10.008620</td>\n",
       "      <td>295.152710</td>\n",
       "    </tr>\n",
       "    <tr>\n",
       "      <th>20</th>\n",
       "      <td>21.0</td>\n",
       "      <td>10.066829</td>\n",
       "      <td>295.278259</td>\n",
       "    </tr>\n",
       "    <tr>\n",
       "      <th>21</th>\n",
       "      <td>22.0</td>\n",
       "      <td>10.141835</td>\n",
       "      <td>286.224091</td>\n",
       "    </tr>\n",
       "    <tr>\n",
       "      <th>22</th>\n",
       "      <td>23.0</td>\n",
       "      <td>10.081381</td>\n",
       "      <td>294.789154</td>\n",
       "    </tr>\n",
       "    <tr>\n",
       "      <th>23</th>\n",
       "      <td>24.0</td>\n",
       "      <td>10.291918</td>\n",
       "      <td>288.904694</td>\n",
       "    </tr>\n",
       "    <tr>\n",
       "      <th>24</th>\n",
       "      <td>25.0</td>\n",
       "      <td>10.399293</td>\n",
       "      <td>285.962311</td>\n",
       "    </tr>\n",
       "    <tr>\n",
       "      <th>25</th>\n",
       "      <td>26.0</td>\n",
       "      <td>9.947904</td>\n",
       "      <td>300.200775</td>\n",
       "    </tr>\n",
       "    <tr>\n",
       "      <th>26</th>\n",
       "      <td>27.0</td>\n",
       "      <td>9.932246</td>\n",
       "      <td>304.429108</td>\n",
       "    </tr>\n",
       "    <tr>\n",
       "      <th>27</th>\n",
       "      <td>28.0</td>\n",
       "      <td>9.826478</td>\n",
       "      <td>302.822632</td>\n",
       "    </tr>\n",
       "    <tr>\n",
       "      <th>28</th>\n",
       "      <td>29.0</td>\n",
       "      <td>9.932052</td>\n",
       "      <td>294.374359</td>\n",
       "    </tr>\n",
       "    <tr>\n",
       "      <th>29</th>\n",
       "      <td>30.0</td>\n",
       "      <td>10.118227</td>\n",
       "      <td>293.502472</td>\n",
       "    </tr>\n",
       "    <tr>\n",
       "      <th>...</th>\n",
       "      <td>...</td>\n",
       "      <td>...</td>\n",
       "      <td>...</td>\n",
       "    </tr>\n",
       "    <tr>\n",
       "      <th>225</th>\n",
       "      <td>226.0</td>\n",
       "      <td>9.540541</td>\n",
       "      <td>326.989197</td>\n",
       "    </tr>\n",
       "    <tr>\n",
       "      <th>226</th>\n",
       "      <td>227.0</td>\n",
       "      <td>10.100363</td>\n",
       "      <td>285.627563</td>\n",
       "    </tr>\n",
       "    <tr>\n",
       "      <th>227</th>\n",
       "      <td>228.0</td>\n",
       "      <td>10.126238</td>\n",
       "      <td>299.797028</td>\n",
       "    </tr>\n",
       "    <tr>\n",
       "      <th>228</th>\n",
       "      <td>229.0</td>\n",
       "      <td>9.945273</td>\n",
       "      <td>302.144287</td>\n",
       "    </tr>\n",
       "    <tr>\n",
       "      <th>229</th>\n",
       "      <td>230.0</td>\n",
       "      <td>9.475880</td>\n",
       "      <td>308.654510</td>\n",
       "    </tr>\n",
       "    <tr>\n",
       "      <th>230</th>\n",
       "      <td>231.0</td>\n",
       "      <td>9.532300</td>\n",
       "      <td>312.356598</td>\n",
       "    </tr>\n",
       "    <tr>\n",
       "      <th>231</th>\n",
       "      <td>232.0</td>\n",
       "      <td>9.367724</td>\n",
       "      <td>309.476196</td>\n",
       "    </tr>\n",
       "    <tr>\n",
       "      <th>232</th>\n",
       "      <td>233.0</td>\n",
       "      <td>9.841689</td>\n",
       "      <td>309.831146</td>\n",
       "    </tr>\n",
       "    <tr>\n",
       "      <th>233</th>\n",
       "      <td>234.0</td>\n",
       "      <td>10.089888</td>\n",
       "      <td>291.188507</td>\n",
       "    </tr>\n",
       "    <tr>\n",
       "      <th>234</th>\n",
       "      <td>235.0</td>\n",
       "      <td>9.988708</td>\n",
       "      <td>304.183197</td>\n",
       "    </tr>\n",
       "    <tr>\n",
       "      <th>235</th>\n",
       "      <td>236.0</td>\n",
       "      <td>9.806950</td>\n",
       "      <td>302.236816</td>\n",
       "    </tr>\n",
       "    <tr>\n",
       "      <th>236</th>\n",
       "      <td>237.0</td>\n",
       "      <td>9.792747</td>\n",
       "      <td>301.409332</td>\n",
       "    </tr>\n",
       "    <tr>\n",
       "      <th>237</th>\n",
       "      <td>238.0</td>\n",
       "      <td>10.243718</td>\n",
       "      <td>291.326630</td>\n",
       "    </tr>\n",
       "    <tr>\n",
       "      <th>238</th>\n",
       "      <td>239.0</td>\n",
       "      <td>10.170455</td>\n",
       "      <td>289.025238</td>\n",
       "    </tr>\n",
       "    <tr>\n",
       "      <th>239</th>\n",
       "      <td>240.0</td>\n",
       "      <td>9.676550</td>\n",
       "      <td>317.072784</td>\n",
       "    </tr>\n",
       "    <tr>\n",
       "      <th>240</th>\n",
       "      <td>241.0</td>\n",
       "      <td>9.562663</td>\n",
       "      <td>311.592682</td>\n",
       "    </tr>\n",
       "    <tr>\n",
       "      <th>241</th>\n",
       "      <td>242.0</td>\n",
       "      <td>9.703063</td>\n",
       "      <td>315.704407</td>\n",
       "    </tr>\n",
       "    <tr>\n",
       "      <th>242</th>\n",
       "      <td>243.0</td>\n",
       "      <td>9.750973</td>\n",
       "      <td>312.230865</td>\n",
       "    </tr>\n",
       "    <tr>\n",
       "      <th>243</th>\n",
       "      <td>244.0</td>\n",
       "      <td>9.585430</td>\n",
       "      <td>317.411926</td>\n",
       "    </tr>\n",
       "    <tr>\n",
       "      <th>244</th>\n",
       "      <td>245.0</td>\n",
       "      <td>9.433863</td>\n",
       "      <td>315.402130</td>\n",
       "    </tr>\n",
       "    <tr>\n",
       "      <th>245</th>\n",
       "      <td>246.0</td>\n",
       "      <td>10.371747</td>\n",
       "      <td>282.525391</td>\n",
       "    </tr>\n",
       "    <tr>\n",
       "      <th>246</th>\n",
       "      <td>247.0</td>\n",
       "      <td>9.817942</td>\n",
       "      <td>304.786285</td>\n",
       "    </tr>\n",
       "    <tr>\n",
       "      <th>247</th>\n",
       "      <td>248.0</td>\n",
       "      <td>9.768825</td>\n",
       "      <td>319.210052</td>\n",
       "    </tr>\n",
       "    <tr>\n",
       "      <th>248</th>\n",
       "      <td>249.0</td>\n",
       "      <td>9.796675</td>\n",
       "      <td>297.734009</td>\n",
       "    </tr>\n",
       "    <tr>\n",
       "      <th>249</th>\n",
       "      <td>250.0</td>\n",
       "      <td>10.252831</td>\n",
       "      <td>295.942139</td>\n",
       "    </tr>\n",
       "    <tr>\n",
       "      <th>250</th>\n",
       "      <td>251.0</td>\n",
       "      <td>10.088670</td>\n",
       "      <td>294.482758</td>\n",
       "    </tr>\n",
       "    <tr>\n",
       "      <th>251</th>\n",
       "      <td>252.0</td>\n",
       "      <td>10.207241</td>\n",
       "      <td>293.240936</td>\n",
       "    </tr>\n",
       "    <tr>\n",
       "      <th>252</th>\n",
       "      <td>253.0</td>\n",
       "      <td>9.881102</td>\n",
       "      <td>300.818512</td>\n",
       "    </tr>\n",
       "    <tr>\n",
       "      <th>253</th>\n",
       "      <td>254.0</td>\n",
       "      <td>9.654948</td>\n",
       "      <td>310.578125</td>\n",
       "    </tr>\n",
       "    <tr>\n",
       "      <th>254</th>\n",
       "      <td>255.0</td>\n",
       "      <td>10.062580</td>\n",
       "      <td>304.130280</td>\n",
       "    </tr>\n",
       "  </tbody>\n",
       "</table>\n",
       "<p>255 rows × 3 columns</p>\n",
       "</div>"
      ],
      "text/plain": [
       "     trial        fix    duration\n",
       "                 mean        mean\n",
       "0      1.0   9.678934  310.472076\n",
       "1      2.0   9.883663  300.024750\n",
       "2      3.0   9.574333  310.086395\n",
       "3      4.0   9.864213  307.700500\n",
       "4      5.0  10.308788  290.703094\n",
       "5      6.0  10.014388  295.304565\n",
       "6      7.0   9.701017  311.465637\n",
       "7      8.0  10.075061  291.016937\n",
       "8      9.0  10.178960  293.555023\n",
       "9     10.0  10.289786  286.118774\n",
       "10    11.0   9.980582  294.320374\n",
       "11    12.0   9.923750  300.795013\n",
       "12    13.0   9.940260  303.158447\n",
       "13    14.0  10.069259  295.511536\n",
       "14    15.0  10.269650  291.455872\n",
       "15    16.0   9.985167  300.393066\n",
       "16    17.0   9.881163  297.185852\n",
       "17    18.0  10.179803  294.044342\n",
       "18    19.0   9.849010  301.034668\n",
       "19    20.0  10.008620  295.152710\n",
       "20    21.0  10.066829  295.278259\n",
       "21    22.0  10.141835  286.224091\n",
       "22    23.0  10.081381  294.789154\n",
       "23    24.0  10.291918  288.904694\n",
       "24    25.0  10.399293  285.962311\n",
       "25    26.0   9.947904  300.200775\n",
       "26    27.0   9.932246  304.429108\n",
       "27    28.0   9.826478  302.822632\n",
       "28    29.0   9.932052  294.374359\n",
       "29    30.0  10.118227  293.502472\n",
       "..     ...        ...         ...\n",
       "225  226.0   9.540541  326.989197\n",
       "226  227.0  10.100363  285.627563\n",
       "227  228.0  10.126238  299.797028\n",
       "228  229.0   9.945273  302.144287\n",
       "229  230.0   9.475880  308.654510\n",
       "230  231.0   9.532300  312.356598\n",
       "231  232.0   9.367724  309.476196\n",
       "232  233.0   9.841689  309.831146\n",
       "233  234.0  10.089888  291.188507\n",
       "234  235.0   9.988708  304.183197\n",
       "235  236.0   9.806950  302.236816\n",
       "236  237.0   9.792747  301.409332\n",
       "237  238.0  10.243718  291.326630\n",
       "238  239.0  10.170455  289.025238\n",
       "239  240.0   9.676550  317.072784\n",
       "240  241.0   9.562663  311.592682\n",
       "241  242.0   9.703063  315.704407\n",
       "242  243.0   9.750973  312.230865\n",
       "243  244.0   9.585430  317.411926\n",
       "244  245.0   9.433863  315.402130\n",
       "245  246.0  10.371747  282.525391\n",
       "246  247.0   9.817942  304.786285\n",
       "247  248.0   9.768825  319.210052\n",
       "248  249.0   9.796675  297.734009\n",
       "249  250.0  10.252831  295.942139\n",
       "250  251.0  10.088670  294.482758\n",
       "251  252.0  10.207241  293.240936\n",
       "252  253.0   9.881102  300.818512\n",
       "253  254.0   9.654948  310.578125\n",
       "254  255.0  10.062580  304.130280\n",
       "\n",
       "[255 rows x 3 columns]"
      ]
     },
     "execution_count": 7,
     "metadata": {},
     "output_type": "execute_result"
    }
   ],
   "source": [
    "# count fixations per category\n",
    "print(\"Fixations per category: \", df.groupby(\"category\").agg({'fix': ['count']}).reset_index())\n",
    "\n",
    "#make a copy of the category column\n",
    "df['category_name'] = df[\"category\"]\n",
    "#map string names to integers according to the article\n",
    "df['category_name'] = df['category_name'].map({7:'Natural',\n",
    "            8:'Urban',\n",
    "            10:'Fractals',\n",
    "            11:'Pink-noise'})\n",
    "\n",
    "a = len(df)\n",
    "print(\"Initial number of rows:\",a)\n",
    "df = df.drop(df[(df.start < 0) & (df.end > 600)].index) \n",
    "b = len(df)\n",
    "print(\"Rrows: removed:\", a-b )\n",
    "df.dropna()\n",
    "c = len(df)\n",
    "print(\"Rows removed:\",b-c)\n",
    "\n",
    "#creating duration column\n",
    "df[\"duration\"] = df[\"end\"]-df[\"start\"]\n",
    "df = df.drop(df[(df.duration < 100) & (df.duration > 400)].index) \n",
    "print(\"Rows left:\",len(df))\n",
    "\n",
    "#aggregate by trial\n",
    "print(\"Number of fixations per trial:\", df.groupby(\"trial\").agg({'fix': ['count']}).reset_index())\n",
    "df.groupby(\"trial\").agg({'fix': ['mean'], 'duration': ['mean']}).reset_index()"
   ]
  },
  {
   "cell_type": "markdown",
   "metadata": {},
   "source": [
    "### c) visualizing data distribution [3 pts]\n",
    "Are there any inter-subject difference and effect of different category in our data?\n",
    "- plot the mean duration for each category (4 x-values) and the mean duration for each subject (48 x-values).\n",
    "\n",
    "- plot the mean number of fixations for each category (4 x-values) and the mean number of fixation for each subject (48 x-values)."
   ]
  },
  {
   "cell_type": "code",
   "execution_count": 8,
   "metadata": {
    "scrolled": false
   },
   "outputs": [
    {
     "data": {
      "text/plain": [
       "Text(0.5, 15.439999999999998, 'Subject')"
      ]
     },
     "execution_count": 8,
     "metadata": {},
     "output_type": "execute_result"
    },
    {
     "data": {
      "image/png": "[encoded data removed]",
      "text/plain": [
       "<Figure size 720x360 with 1 Axes>"
      ]
     },
     "metadata": {},
     "output_type": "display_data"
    },
    {
     "data": {
      "image/png": "[encoded data removed]",
      "text/plain": [
       "<Figure size 720x360 with 1 Axes>"
      ]
     },
     "metadata": {},
     "output_type": "display_data"
    },
    {
     "data": {
      "image/png": "[encoded data removed]",
      "text/plain": [
       "<Figure size 720x360 with 1 Axes>"
      ]
     },
     "metadata": {},
     "output_type": "display_data"
    },
    {
     "data": {
      "image/png": "[encoded data removed]",
      "text/plain": [
       "<Figure size 720x360 with 1 Axes>"
      ]
     },
     "metadata": {},
     "output_type": "display_data"
    }
   ],
   "source": [
    "#mean duration & fixations\n",
    "mean_category = df.groupby(\"category_name\").mean().reset_index()\n",
    "mean_subject = df.groupby(\"SUBJECTINDEX\").mean().reset_index()\n",
    "\n",
    "#plotting\n",
    "sns.set(context = \"talk\", style=\"whitegrid\", palette=\"Accent\", font_scale=1)\n",
    "\n",
    "\n",
    "sns.catplot(x = \"category_name\", y = \"duration\",data= mean_category, kind=\"bar\", aspect=2)\n",
    "sns.catplot(x = \"category_name\", y = \"fix\",data= mean_category, kind=\"bar\", aspect=2)\n",
    "sns.catplot(x = \"SUBJECTINDEX\", y = \"duration\",data= mean_subject, aspect=2)\n",
    "plt.xticks([]) \n",
    "plt.xlabel(\"Subject\")\n",
    "sns.catplot(x = \"SUBJECTINDEX\", y = \"fix\",data= mean_subject, aspect=2)\n",
    "plt.xticks([]) \n",
    "plt.xlabel(\"Subject\")\n"
   ]
  },
  {
   "cell_type": "markdown",
   "metadata": {},
   "source": [
    "### d) normally distributed data [3 pts]\n",
    "As ANOVA and lots of other statistical tests can be used only for normally distributed varaibles, it makes sense to find out whether the fixation duration and the number of fixations per trial is also normally distributed. This can be done with a Q-Q-Plot, which  is a graphical technique for determining if two data sets come from populations with a common distribution, in this case a normal distribution (for more information, klick [here](https://www.itl.nist.gov/div898/handbook/eda/section3/eda33o.htm)).\n",
    "- make a Q-Q plot of the variable *fixation duration*. Is it approximately normally distributed?\n",
    "- make a Q-Q plot of the variable *# fixation per trial*. Is it approximately normally distributed?"
   ]
  },
  {
   "cell_type": "code",
   "execution_count": 30,
   "metadata": {
    "scrolled": false
   },
   "outputs": [
    {
     "data": {
      "image/png": "[encoded data removed]",
      "text/plain": [
       "<Figure size 432x288 with 1 Axes>"
      ]
     },
     "metadata": {},
     "output_type": "display_data"
    },
    {
     "data": {
      "image/png": "[encoded data removed]",
      "text/plain": [
       "<Figure size 432x288 with 1 Axes>"
      ]
     },
     "metadata": {},
     "output_type": "display_data"
    }
   ],
   "source": [
    "pp = sm.ProbPlot(df['duration'], fit=True)\n",
    "qq = pp.qqplot(marker='.', markerfacecolor='k', markeredgecolor='k', alpha=0.3)\n",
    "sm.qqline(qq.axes[0], line='45', fmt='k--')\n",
    "\n",
    "pp = sm.ProbPlot(df['trial'], fit=True)\n",
    "qq = pp.qqplot(marker='.', markerfacecolor='k', markeredgecolor='k', alpha=0.3)\n",
    "sm.qqline(qq.axes[0], line='45', fmt='k--')\n",
    "\n",
    "plt.show()"
   ]
  },
  {
   "cell_type": "markdown",
   "metadata": {},
   "source": [
    "We see that fixation duration is skewed, bit it looks normal per trial"
   ]
  },
  {
   "cell_type": "markdown",
   "metadata": {},
   "source": [
    "## Assignment 2: Hypothesis testing [3 pts]"
   ]
  },
  {
   "cell_type": "markdown",
   "metadata": {},
   "source": [
    "### a) one way ANOVA [3 pts]\n",
    "Now it's time to really prove our intuition. Test the following null hypotheses:  \n",
    "$H01$: There is no difference in fixation duration across 4 different categories.  \n",
    "$H02$: There is no difference in the number of fixations across 4 different categories.\n",
    "\n",
    "What do you find?"
   ]
  },
  {
   "cell_type": "code",
   "execution_count": 31,
   "metadata": {},
   "outputs": [
    {
     "data": {
      "text/plain": [
       "F_onewayResult(statistic=1210.9956149293123, pvalue=0.0)"
      ]
     },
     "execution_count": 31,
     "metadata": {},
     "output_type": "execute_result"
    }
   ],
   "source": [
    "# H01\n",
    "%precision %.2f\n",
    "\n",
    "a = df.duration[df.category==7]\n",
    "b =  df.duration[df.category==8]\n",
    "c =  df.duration[df.category==10]\n",
    "d =  df.duration[df.category==11]\n",
    "stats.f_oneway(a,b, c, d)"
   ]
  },
  {
   "cell_type": "code",
   "execution_count": 32,
   "metadata": {
    "scrolled": true
   },
   "outputs": [
    {
     "name": "stdout",
     "output_type": "stream",
     "text": [
      "F_onewayResult(statistic=840.3335594250531, pvalue=0.0)\n"
     ]
    }
   ],
   "source": [
    "# H02\n",
    "a = df.fix[df.category==7]\n",
    "b =  df.fix[df.category==8]\n",
    "c =  df.fix[df.category==10]\n",
    "d =  df.fix[df.category==11]\n",
    "anova = stats.f_oneway(a,b, c, d)\n",
    "print(anova)"
   ]
  },
  {
   "cell_type": "markdown",
   "metadata": {},
   "source": [
    "what do you say?"
   ]
  },
  {
   "cell_type": "markdown",
   "metadata": {},
   "source": [
    "## Assignment 3: Binning [4 pts]"
   ]
  },
  {
   "cell_type": "markdown",
   "metadata": {},
   "source": [
    "### a) distribution of # fixation [2 pts]\n",
    "Now we would like to know if there's a difference in terms of fixation numbers at different time segment.\n",
    "- make a histogram with x axis being the start time of fixation\n",
    "- the bin size should be 1 sec. In total there would be 6 bins.\n",
    "- average over all subjects and images, just make a one simple plot\n",
    "- figure out mean fixation duration for each bin and print it\n"
   ]
  },
  {
   "cell_type": "code",
   "execution_count": 149,
   "metadata": {},
   "outputs": [
    {
     "data": {
      "text/plain": [
       "range\n",
       "0:100       345.987030\n",
       "100:200    1340.796753\n",
       "200:300    2393.805176\n",
       "300:400    3447.316406\n",
       "400:500    4496.599609\n",
       "500:600    5480.871094\n",
       "Name: start, dtype: float32"
      ]
     },
     "execution_count": 149,
     "metadata": {},
     "output_type": "execute_result"
    },
    {
     "data": {
      "image/png": "[encoded data removed]",
      "text/plain": [
       "<Figure size 432x288 with 1 Axes>"
      ]
     },
     "metadata": {
      "needs_background": "light"
     },
     "output_type": "display_data"
    }
   ],
   "source": [
    "sns.distplot(df[\"start\"], bins=6)\n",
    "plt.subplots_adjust(top=1.5, bottom=0.2, right=2)\n",
    "\n",
    "#get mean of each bin\n",
    "labels = [\"0:100\",\"100:200\",\"200:300\", '300:400','400:500', '500:600']\n",
    "df[\"range\"] = pd.cut(df[\"start\"], 6, labels = labels)    #create a new column in df, \n",
    "bins_mean = df.groupby(\"range\").mean()                    # which indicates to which bin the row belongs\n",
    "bins_mean[\"start\"] "
   ]
  },
  {
   "cell_type": "markdown",
   "metadata": {},
   "source": [
    "### b) leftward bias [2 pts]\n",
    "If you took Action & Cognition I, you have probably heard about the leftward bias in human's fixation behavior. It is known that people tend to look more at the left visual field for the initial first second. Check whether this holds for our dataset as well.\n",
    "- make a pointplot with x-axis as the x-coordinate of each fixation point and y-axis as the time bin to which the fixation point belongs to.\n",
    "- mark the confidence interval around each point.\n",
    "- make a vertical line at middle point of the x values. The x-coordinate of the fixation point in the data is based on the coordinate system using the display resolution. You can find out the information about display resolution by taking a look at the meta data."
   ]
  },
  {
   "cell_type": "code",
   "execution_count": 148,
   "metadata": {},
   "outputs": [
    {
     "data": {
      "text/plain": [
       "([<matplotlib.axis.XTick at 0x112aef630>,\n",
       "  <matplotlib.axis.XTick at 0x11385d2b0>,\n",
       "  <matplotlib.axis.XTick at 0x11385d3c8>,\n",
       "  <matplotlib.axis.XTick at 0x11320da58>,\n",
       "  <matplotlib.axis.XTick at 0x11320d780>,\n",
       "  <matplotlib.axis.XTick at 0x11320d0b8>],\n",
       " <a list of 6 Text xticklabel objects>)"
      ]
     },
     "execution_count": 148,
     "metadata": {},
     "output_type": "execute_result"
    },
    {
     "data": {
      "image/png": "[encoded data removed]",
      "text/plain": [
       "<Figure size 432x288 with 1 Axes>"
      ]
     },
     "metadata": {
      "needs_background": "light"
     },
     "output_type": "display_data"
    }
   ],
   "source": [
    "sns.pointplot(x='x', y = \"range\", data=df, join=False, ci=95)\n",
    "plt.xlabel(\"position \")\n",
    "plt.subplots_adjust(top=1.5, bottom=0.2, right=2)\n",
    "\n",
    "ax = plt.gca() # get axis handle\n",
    "ticks=[]\n",
    "for i in range(6):\n",
    "    line = ax.lines[i]# get the ist point \n",
    "    line = line.get_xdata() #get x coordinates\n",
    "    mean = np.mean(line) #calculate mean\n",
    "    ticks.append(mean)\n",
    "\n",
    "plt.xticks(ticks, rotation=45)"
   ]
  },
  {
   "cell_type": "markdown",
   "metadata": {},
   "source": [
    "## Assignment 4: Heatmap [4 pts]\n",
    "Now let's use heatmap to visualize which part of pictures is fixated for how long. It would be also good to know if there's a difference between categories.\n",
    "- make a heatmap for data consisting of each categories and then averaged across all data.\n",
    "- mark a central point in the plot.\n",
    "- you can use ```numpy.histogram2d``` to compute a bi-dimensional histogram.\n",
    "- then you can use ```pyplot.imshow``` to plot these histogram.\n",
    "- don't forget to use the parameter ```extent``` to control for the bounding box to which the image should fit in.\n",
    "- if you want to use other functions that's surely fine as well."
   ]
  },
  {
   "cell_type": "code",
   "execution_count": 9,
   "metadata": {
    "scrolled": true
   },
   "outputs": [],
   "source": [
    "# TODO"
   ]
  },
  {
   "cell_type": "markdown",
   "metadata": {},
   "source": [
    "## Assignment 5: Scanpath [5 pts]\n",
    "We want to know whether different scan behaviour is used when viewing images of different categories. Scanpath is a path followed by the eyes when viewing a stimulus. Scanpaths are useful for analyzing cognitive intent, interest, and salience. It has an advantage to a heatmap because the information about temporal structure of viewing behaviour can be plotted.\n",
    "- make four plots, one for each category.\n",
    "- randomely choose one trial for which you will plot a scanpath.\n",
    "- mark fixation points based on the x-y coordinates.\n",
    "- plot the *saccade path* from one fixation point to another one.\n",
    "- make sure that the order of fixation can be read out from the plot. E.g. earlier fixations could have a light color whereas later fixations could have dark colors.\n",
    "- also include information about the duration of each fixation. One way to do it is the use the size of the fixation marker.\n",
    "- plot the background image superimposed with the scanpath. "
   ]
  },
  {
   "cell_type": "code",
   "execution_count": 10,
   "metadata": {
    "scrolled": false
   },
   "outputs": [],
   "source": [
    "# TODO"
   ]
  },
  {
   "cell_type": "markdown",
   "metadata": {},
   "source": [
    "# Citation\n",
    "Wilming N, Onat S, Ossandón J, Acik A, Kietzmann TC, Kaspar K, Gameiro RR, Vormberg A, König P (2017) An extensive dataset of eye movements during viewing of complex images. Scientific Data 4: 160126. https://doi.org/10.1038/sdata.2016.126  \n",
    "Wilming N, Onat S, Ossandón J, Acik A, Kietzmann TC, Kaspar K, Gameiro RR, Vormberg A, König P (2017) Data from: An extensive dataset of eye movements during viewing of complex images. Dryad Digital Repository. https://doi.org/10.5061/dryad.9pf75"
   ]
  }
 ],
 "metadata": {
  "kernelspec": {
   "display_name": "Python 3",
   "language": "python",
   "name": "python3"
  },
  "language_info": {
   "codemirror_mode": {
    "name": "ipython",
    "version": 3
   },
   "file_extension": ".py",
   "mimetype": "text/x-python",
   "name": "python",
   "nbconvert_exporter": "python",
   "pygments_lexer": "ipython3",
   "version": "3.6.7"
  }
 },
 "nbformat": 4,
 "nbformat_minor": 2
}
